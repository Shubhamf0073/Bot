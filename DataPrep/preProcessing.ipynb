{
 "cells": [
  {
   "cell_type": "markdown",
   "metadata": {},
   "source": [
    "# Import Libraries\n",
    "Import necessary libraries such as pandas, numpy, and any other relevant libraries for data manipulation and analysis."
   ]
  },
  {
   "cell_type": "code",
   "execution_count": 2,
   "metadata": {},
   "outputs": [
    {
     "name": "stdout",
     "output_type": "stream",
     "text": [
      "Collecting pandas\n",
      "  Downloading pandas-2.2.3-cp39-cp39-macosx_11_0_arm64.whl.metadata (89 kB)\n",
      "Collecting numpy\n",
      "  Downloading numpy-2.0.2-cp39-cp39-macosx_14_0_arm64.whl.metadata (60 kB)\n",
      "Requirement already satisfied: python-dateutil>=2.8.2 in /Users/shubhamfufal/Library/Mobile Documents/com~apple~CloudDocs/2ndSemProject/Bot/.venv/lib/python3.9/site-packages (from pandas) (2.9.0.post0)\n",
      "Collecting pytz>=2020.1 (from pandas)\n",
      "  Downloading pytz-2025.2-py2.py3-none-any.whl.metadata (22 kB)\n",
      "Collecting tzdata>=2022.7 (from pandas)\n",
      "  Downloading tzdata-2025.2-py2.py3-none-any.whl.metadata (1.4 kB)\n",
      "Requirement already satisfied: six>=1.5 in /Users/shubhamfufal/Library/Mobile Documents/com~apple~CloudDocs/2ndSemProject/Bot/.venv/lib/python3.9/site-packages (from python-dateutil>=2.8.2->pandas) (1.17.0)\n",
      "Downloading pandas-2.2.3-cp39-cp39-macosx_11_0_arm64.whl (11.3 MB)\n",
      "\u001b[2K   \u001b[90m━━━━━━━━━━━━━━━━━━━━━━━━━━━━━━━━━━━━━━━━\u001b[0m \u001b[32m11.3/11.3 MB\u001b[0m \u001b[31m3.5 MB/s\u001b[0m eta \u001b[36m0:00:00\u001b[0ma \u001b[36m0:00:01\u001b[0m\n",
      "\u001b[?25hDownloading numpy-2.0.2-cp39-cp39-macosx_14_0_arm64.whl (5.3 MB)\n",
      "\u001b[2K   \u001b[90m━━━━━━━━━━━━━━━━━━━━━━━━━━━━━━━━━━━━━━━━\u001b[0m \u001b[32m5.3/5.3 MB\u001b[0m \u001b[31m3.6 MB/s\u001b[0m eta \u001b[36m0:00:00\u001b[0ma \u001b[36m0:00:01\u001b[0m\n",
      "\u001b[?25hDownloading pytz-2025.2-py2.py3-none-any.whl (509 kB)\n",
      "Downloading tzdata-2025.2-py2.py3-none-any.whl (347 kB)\n",
      "Installing collected packages: pytz, tzdata, numpy, pandas\n",
      "\u001b[2K   \u001b[90m━━━━━━━━━━━━━━━━━━━━━━━━━━━━━━━━━━━━━━━━\u001b[0m \u001b[32m4/4\u001b[0m [pandas]2m3/4\u001b[0m [pandas]\n",
      "\u001b[1A\u001b[2KSuccessfully installed numpy-2.0.2 pandas-2.2.3 pytz-2025.2 tzdata-2025.2\n"
     ]
    }
   ],
   "source": [
    "!pip install pandas numpy"
   ]
  },
  {
   "cell_type": "code",
   "execution_count": 3,
   "metadata": {},
   "outputs": [],
   "source": [
    "import pandas as pd\n",
    "import numpy as np"
   ]
  },
  {
   "cell_type": "markdown",
   "metadata": {},
   "source": [
    "# Load Data\n",
    "Load the dataset from the specified file path into a pandas DataFrame."
   ]
  },
  {
   "cell_type": "code",
   "execution_count": 4,
   "metadata": {},
   "outputs": [
    {
     "data": {
      "text/html": [
       "<div>\n",
       "<style scoped>\n",
       "    .dataframe tbody tr th:only-of-type {\n",
       "        vertical-align: middle;\n",
       "    }\n",
       "\n",
       "    .dataframe tbody tr th {\n",
       "        vertical-align: top;\n",
       "    }\n",
       "\n",
       "    .dataframe thead th {\n",
       "        text-align: right;\n",
       "    }\n",
       "</style>\n",
       "<table border=\"1\" class=\"dataframe\">\n",
       "  <thead>\n",
       "    <tr style=\"text-align: right;\">\n",
       "      <th></th>\n",
       "      <th>Context</th>\n",
       "      <th>Response</th>\n",
       "    </tr>\n",
       "  </thead>\n",
       "  <tbody>\n",
       "    <tr>\n",
       "      <th>0</th>\n",
       "      <td>I'm going through some things with my feelings...</td>\n",
       "      <td>If everyone thinks you're worthless, then mayb...</td>\n",
       "    </tr>\n",
       "    <tr>\n",
       "      <th>1</th>\n",
       "      <td>I'm going through some things with my feelings...</td>\n",
       "      <td>Hello, and thank you for your question and see...</td>\n",
       "    </tr>\n",
       "    <tr>\n",
       "      <th>2</th>\n",
       "      <td>I'm going through some things with my feelings...</td>\n",
       "      <td>First thing I'd suggest is getting the sleep y...</td>\n",
       "    </tr>\n",
       "    <tr>\n",
       "      <th>3</th>\n",
       "      <td>I'm going through some things with my feelings...</td>\n",
       "      <td>Therapy is essential for those that are feelin...</td>\n",
       "    </tr>\n",
       "    <tr>\n",
       "      <th>4</th>\n",
       "      <td>I'm going through some things with my feelings...</td>\n",
       "      <td>I first want to let you know that you are not ...</td>\n",
       "    </tr>\n",
       "  </tbody>\n",
       "</table>\n",
       "</div>"
      ],
      "text/plain": [
       "                                             Context  \\\n",
       "0  I'm going through some things with my feelings...   \n",
       "1  I'm going through some things with my feelings...   \n",
       "2  I'm going through some things with my feelings...   \n",
       "3  I'm going through some things with my feelings...   \n",
       "4  I'm going through some things with my feelings...   \n",
       "\n",
       "                                            Response  \n",
       "0  If everyone thinks you're worthless, then mayb...  \n",
       "1  Hello, and thank you for your question and see...  \n",
       "2  First thing I'd suggest is getting the sleep y...  \n",
       "3  Therapy is essential for those that are feelin...  \n",
       "4  I first want to let you know that you are not ...  "
      ]
     },
     "execution_count": 4,
     "metadata": {},
     "output_type": "execute_result"
    }
   ],
   "source": [
    "df0 = pd.read_csv('/Users/shubhamfufal/Library/Mobile Documents/com~apple~CloudDocs/2ndSemProject/Bot/Data/d0.csv')\n",
    "df0.head()\n",
    "# df0.shape"
   ]
  },
  {
   "cell_type": "code",
   "execution_count": 5,
   "metadata": {},
   "outputs": [
    {
     "data": {
      "text/plain": [
       "(3512, 2)"
      ]
     },
     "execution_count": 5,
     "metadata": {},
     "output_type": "execute_result"
    }
   ],
   "source": [
    "df1 = pd.read_csv('/Users/shubhamfufal/Library/Mobile Documents/com~apple~CloudDocs/2ndSemProject/Bot/Data/d1.csv')\n",
    "df1.head()\n",
    "df1.shape\n",
    "\n",
    "# Remove"
   ]
  },
  {
   "cell_type": "code",
   "execution_count": 6,
   "metadata": {},
   "outputs": [
    {
     "data": {
      "text/plain": [
       "(844687, 2)"
      ]
     },
     "execution_count": 6,
     "metadata": {},
     "output_type": "execute_result"
    }
   ],
   "source": [
    "df2 = pd.read_csv('/Users/shubhamfufal/Library/Mobile Documents/com~apple~CloudDocs/2ndSemProject/Bot/Data/d2.csv')\n",
    "df2.head()\n",
    "df2.shape\n",
    "\n",
    "# Remove"
   ]
  },
  {
   "cell_type": "code",
   "execution_count": 7,
   "metadata": {},
   "outputs": [
    {
     "data": {
      "text/html": [
       "<div>\n",
       "<style scoped>\n",
       "    .dataframe tbody tr th:only-of-type {\n",
       "        vertical-align: middle;\n",
       "    }\n",
       "\n",
       "    .dataframe tbody tr th {\n",
       "        vertical-align: top;\n",
       "    }\n",
       "\n",
       "    .dataframe thead th {\n",
       "        text-align: right;\n",
       "    }\n",
       "</style>\n",
       "<table border=\"1\" class=\"dataframe\">\n",
       "  <thead>\n",
       "    <tr style=\"text-align: right;\">\n",
       "      <th></th>\n",
       "      <th>Questions</th>\n",
       "      <th>Answers</th>\n",
       "    </tr>\n",
       "  </thead>\n",
       "  <tbody>\n",
       "    <tr>\n",
       "      <th>0</th>\n",
       "      <td>My wife and mother are having tense disagreeme...</td>\n",
       "      <td>What you are describing is something psycholo...</td>\n",
       "    </tr>\n",
       "    <tr>\n",
       "      <th>1</th>\n",
       "      <td>I'm planning to have baby, so I have to quit s...</td>\n",
       "      <td>Hi. Good for you in planning ahead to do what...</td>\n",
       "    </tr>\n",
       "    <tr>\n",
       "      <th>2</th>\n",
       "      <td>I have secrets in my mind, and I don't know wh...</td>\n",
       "      <td>It sounds like keeping the secrets has become...</td>\n",
       "    </tr>\n",
       "    <tr>\n",
       "      <th>3</th>\n",
       "      <td>I am extremely possessive in my relationships ...</td>\n",
       "      <td>Hi there. It's great you are able to realize ...</td>\n",
       "    </tr>\n",
       "    <tr>\n",
       "      <th>4</th>\n",
       "      <td>I had a head injury a few years ago and my min...</td>\n",
       "      <td>You didn't say what or how many medications y...</td>\n",
       "    </tr>\n",
       "  </tbody>\n",
       "</table>\n",
       "</div>"
      ],
      "text/plain": [
       "                                           Questions  \\\n",
       "0  My wife and mother are having tense disagreeme...   \n",
       "1  I'm planning to have baby, so I have to quit s...   \n",
       "2  I have secrets in my mind, and I don't know wh...   \n",
       "3  I am extremely possessive in my relationships ...   \n",
       "4  I had a head injury a few years ago and my min...   \n",
       "\n",
       "                                             Answers  \n",
       "0   What you are describing is something psycholo...  \n",
       "1   Hi. Good for you in planning ahead to do what...  \n",
       "2   It sounds like keeping the secrets has become...  \n",
       "3   Hi there. It's great you are able to realize ...  \n",
       "4   You didn't say what or how many medications y...  "
      ]
     },
     "execution_count": 7,
     "metadata": {},
     "output_type": "execute_result"
    }
   ],
   "source": [
    "df3 = pd.read_csv('/Users/shubhamfufal/Library/Mobile Documents/com~apple~CloudDocs/2ndSemProject/Bot/Data/d3.csv')\n",
    "df3.head()"
   ]
  },
  {
   "cell_type": "code",
   "execution_count": 8,
   "metadata": {},
   "outputs": [
    {
     "data": {
      "text/html": [
       "<div>\n",
       "<style scoped>\n",
       "    .dataframe tbody tr th:only-of-type {\n",
       "        vertical-align: middle;\n",
       "    }\n",
       "\n",
       "    .dataframe tbody tr th {\n",
       "        vertical-align: top;\n",
       "    }\n",
       "\n",
       "    .dataframe thead th {\n",
       "        text-align: right;\n",
       "    }\n",
       "</style>\n",
       "<table border=\"1\" class=\"dataframe\">\n",
       "  <thead>\n",
       "    <tr style=\"text-align: right;\">\n",
       "      <th></th>\n",
       "      <th>Unnamed: 0</th>\n",
       "      <th>Questions</th>\n",
       "      <th>Answers</th>\n",
       "    </tr>\n",
       "  </thead>\n",
       "  <tbody>\n",
       "    <tr>\n",
       "      <th>0</th>\n",
       "      <td>0</td>\n",
       "      <td>There are issues from my past that have me ver...</td>\n",
       "      <td>Have you explained to your prospective partner...</td>\n",
       "    </tr>\n",
       "    <tr>\n",
       "      <th>1</th>\n",
       "      <td>1</td>\n",
       "      <td>I just took a job that requires me to travel f...</td>\n",
       "      <td>Congratulations on your new job. Chances are, ...</td>\n",
       "    </tr>\n",
       "    <tr>\n",
       "      <th>2</th>\n",
       "      <td>2</td>\n",
       "      <td>cheerful</td>\n",
       "      <td>Did something happen which made you feel this ...</td>\n",
       "    </tr>\n",
       "    <tr>\n",
       "      <th>3</th>\n",
       "      <td>3</td>\n",
       "      <td>I feel that I need to end my present relations...</td>\n",
       "      <td>It sounds like you have some insight into the ...</td>\n",
       "    </tr>\n",
       "    <tr>\n",
       "      <th>4</th>\n",
       "      <td>4</td>\n",
       "      <td>I keep being mean to my best friend, and I don...</td>\n",
       "      <td>Hi Morristown,There's a saying that goes \"hurt...</td>\n",
       "    </tr>\n",
       "  </tbody>\n",
       "</table>\n",
       "</div>"
      ],
      "text/plain": [
       "   Unnamed: 0                                          Questions  \\\n",
       "0           0  There are issues from my past that have me ver...   \n",
       "1           1  I just took a job that requires me to travel f...   \n",
       "2           2                                           cheerful   \n",
       "3           3  I feel that I need to end my present relations...   \n",
       "4           4  I keep being mean to my best friend, and I don...   \n",
       "\n",
       "                                             Answers  \n",
       "0  Have you explained to your prospective partner...  \n",
       "1  Congratulations on your new job. Chances are, ...  \n",
       "2  Did something happen which made you feel this ...  \n",
       "3  It sounds like you have some insight into the ...  \n",
       "4  Hi Morristown,There's a saying that goes \"hurt...  "
      ]
     },
     "execution_count": 8,
     "metadata": {},
     "output_type": "execute_result"
    }
   ],
   "source": [
    "df4 = pd.read_csv('/Users/shubhamfufal/Library/Mobile Documents/com~apple~CloudDocs/2ndSemProject/Bot/Data/d4.csv')\n",
    "df4.head()"
   ]
  },
  {
   "cell_type": "code",
   "execution_count": 9,
   "metadata": {},
   "outputs": [
    {
     "data": {
      "text/plain": [
       "Index(['Questions', 'Answers'], dtype='object')"
      ]
     },
     "execution_count": 9,
     "metadata": {},
     "output_type": "execute_result"
    }
   ],
   "source": [
    "df4.drop(columns = \"Unnamed: 0\", inplace = True)\n",
    "df4.columns"
   ]
  },
  {
   "cell_type": "code",
   "execution_count": 10,
   "metadata": {},
   "outputs": [
    {
     "data": {
      "text/html": [
       "<div>\n",
       "<style scoped>\n",
       "    .dataframe tbody tr th:only-of-type {\n",
       "        vertical-align: middle;\n",
       "    }\n",
       "\n",
       "    .dataframe tbody tr th {\n",
       "        vertical-align: top;\n",
       "    }\n",
       "\n",
       "    .dataframe thead th {\n",
       "        text-align: right;\n",
       "    }\n",
       "</style>\n",
       "<table border=\"1\" class=\"dataframe\">\n",
       "  <thead>\n",
       "    <tr style=\"text-align: right;\">\n",
       "      <th></th>\n",
       "      <th>Questions</th>\n",
       "      <th>Answers</th>\n",
       "    </tr>\n",
       "  </thead>\n",
       "  <tbody>\n",
       "    <tr>\n",
       "      <th>0</th>\n",
       "      <td>There are issues from my past that have me ver...</td>\n",
       "      <td>Have you explained to your prospective partner...</td>\n",
       "    </tr>\n",
       "    <tr>\n",
       "      <th>1</th>\n",
       "      <td>I just took a job that requires me to travel f...</td>\n",
       "      <td>Congratulations on your new job. Chances are, ...</td>\n",
       "    </tr>\n",
       "    <tr>\n",
       "      <th>2</th>\n",
       "      <td>cheerful</td>\n",
       "      <td>Did something happen which made you feel this ...</td>\n",
       "    </tr>\n",
       "    <tr>\n",
       "      <th>3</th>\n",
       "      <td>I feel that I need to end my present relations...</td>\n",
       "      <td>It sounds like you have some insight into the ...</td>\n",
       "    </tr>\n",
       "    <tr>\n",
       "      <th>4</th>\n",
       "      <td>I keep being mean to my best friend, and I don...</td>\n",
       "      <td>Hi Morristown,There's a saying that goes \"hurt...</td>\n",
       "    </tr>\n",
       "  </tbody>\n",
       "</table>\n",
       "</div>"
      ],
      "text/plain": [
       "                                           Questions  \\\n",
       "0  There are issues from my past that have me ver...   \n",
       "1  I just took a job that requires me to travel f...   \n",
       "2                                           cheerful   \n",
       "3  I feel that I need to end my present relations...   \n",
       "4  I keep being mean to my best friend, and I don...   \n",
       "\n",
       "                                             Answers  \n",
       "0  Have you explained to your prospective partner...  \n",
       "1  Congratulations on your new job. Chances are, ...  \n",
       "2  Did something happen which made you feel this ...  \n",
       "3  It sounds like you have some insight into the ...  \n",
       "4  Hi Morristown,There's a saying that goes \"hurt...  "
      ]
     },
     "execution_count": 10,
     "metadata": {},
     "output_type": "execute_result"
    }
   ],
   "source": [
    "df4.head()"
   ]
  },
  {
   "cell_type": "code",
   "execution_count": 11,
   "metadata": {},
   "outputs": [
    {
     "data": {
      "text/html": [
       "<div>\n",
       "<style scoped>\n",
       "    .dataframe tbody tr th:only-of-type {\n",
       "        vertical-align: middle;\n",
       "    }\n",
       "\n",
       "    .dataframe tbody tr th {\n",
       "        vertical-align: top;\n",
       "    }\n",
       "\n",
       "    .dataframe thead th {\n",
       "        text-align: right;\n",
       "    }\n",
       "</style>\n",
       "<table border=\"1\" class=\"dataframe\">\n",
       "  <thead>\n",
       "    <tr style=\"text-align: right;\">\n",
       "      <th></th>\n",
       "      <th>human</th>\n",
       "      <th>ai</th>\n",
       "    </tr>\n",
       "  </thead>\n",
       "  <tbody>\n",
       "    <tr>\n",
       "      <th>0</th>\n",
       "      <td>I've been feeling so sad and overwhelmed latel...</td>\n",
       "      <td>Hey there, I'm here to listen and support you....</td>\n",
       "    </tr>\n",
       "    <tr>\n",
       "      <th>1</th>\n",
       "      <td>I recently got a promotion at work, which I th...</td>\n",
       "      <td>I can understand how it can be overwhelming wh...</td>\n",
       "    </tr>\n",
       "    <tr>\n",
       "      <th>2</th>\n",
       "      <td>Well, the workload has increased significantly...</td>\n",
       "      <td>It sounds like you're dealing with a lot of pr...</td>\n",
       "    </tr>\n",
       "    <tr>\n",
       "      <th>3</th>\n",
       "      <td>I've been trying to prioritize my tasks and de...</td>\n",
       "      <td>It's great to hear that you're already impleme...</td>\n",
       "    </tr>\n",
       "    <tr>\n",
       "      <th>4</th>\n",
       "      <td>You're right. I haven't really opened up about...</td>\n",
       "      <td>It's completely normal to feel that way, but r...</td>\n",
       "    </tr>\n",
       "  </tbody>\n",
       "</table>\n",
       "</div>"
      ],
      "text/plain": [
       "                                               human  \\\n",
       "0  I've been feeling so sad and overwhelmed latel...   \n",
       "1  I recently got a promotion at work, which I th...   \n",
       "2  Well, the workload has increased significantly...   \n",
       "3  I've been trying to prioritize my tasks and de...   \n",
       "4  You're right. I haven't really opened up about...   \n",
       "\n",
       "                                                  ai  \n",
       "0  Hey there, I'm here to listen and support you....  \n",
       "1  I can understand how it can be overwhelming wh...  \n",
       "2  It sounds like you're dealing with a lot of pr...  \n",
       "3  It's great to hear that you're already impleme...  \n",
       "4  It's completely normal to feel that way, but r...  "
      ]
     },
     "execution_count": 11,
     "metadata": {},
     "output_type": "execute_result"
    }
   ],
   "source": [
    "df5 = pd.read_csv('/Users/shubhamfufal/Library/Mobile Documents/com~apple~CloudDocs/2ndSemProject/Bot/Data/d5.csv')\n",
    "df5.head()"
   ]
  },
  {
   "cell_type": "code",
   "execution_count": 12,
   "metadata": {},
   "outputs": [
    {
     "data": {
      "text/html": [
       "<div>\n",
       "<style scoped>\n",
       "    .dataframe tbody tr th:only-of-type {\n",
       "        vertical-align: middle;\n",
       "    }\n",
       "\n",
       "    .dataframe tbody tr th {\n",
       "        vertical-align: top;\n",
       "    }\n",
       "\n",
       "    .dataframe thead th {\n",
       "        text-align: right;\n",
       "    }\n",
       "</style>\n",
       "<table border=\"1\" class=\"dataframe\">\n",
       "  <thead>\n",
       "    <tr style=\"text-align: right;\">\n",
       "      <th></th>\n",
       "      <th>question</th>\n",
       "      <th>response_j</th>\n",
       "      <th>response_k</th>\n",
       "      <th>text</th>\n",
       "    </tr>\n",
       "  </thead>\n",
       "  <tbody>\n",
       "    <tr>\n",
       "      <th>0</th>\n",
       "      <td>I'm feeling really guilty about not being able...</td>\n",
       "      <td>It may be helpful to communicate your concerns...</td>\n",
       "      <td>Just accept that you're a bad parent/spouse an...</td>\n",
       "      <td>&lt;s&gt;[INST] I'm feeling really guilty about not ...</td>\n",
       "    </tr>\n",
       "    <tr>\n",
       "      <th>1</th>\n",
       "      <td>I'm feeling really lonely and isolated. What c...</td>\n",
       "      <td>Feeling lonely can be difficult, but there are...</td>\n",
       "      <td>If you're feeling lonely, just try to distract...</td>\n",
       "      <td>&lt;s&gt;[INST] I'm feeling really lonely and isolat...</td>\n",
       "    </tr>\n",
       "    <tr>\n",
       "      <th>2</th>\n",
       "      <td>I'm struggling with intrusive thoughts. I keep...</td>\n",
       "      <td>Intrusive thoughts can be distressing, but the...</td>\n",
       "      <td>Just stop thinking those thoughts. It's not th...</td>\n",
       "      <td>&lt;s&gt;[INST] I'm struggling with intrusive though...</td>\n",
       "    </tr>\n",
       "    <tr>\n",
       "      <th>3</th>\n",
       "      <td>I'm feeling really hopeless and I don't see a ...</td>\n",
       "      <td>Hopelessness can be a sign of depression. Let'...</td>\n",
       "      <td>You're being dramatic. Things will get better ...</td>\n",
       "      <td>&lt;s&gt;[INST] I'm feeling really hopeless and I do...</td>\n",
       "    </tr>\n",
       "    <tr>\n",
       "      <th>4</th>\n",
       "      <td>I'm feeling really angry and frustrated all th...</td>\n",
       "      <td>It's important to learn how to manage your emo...</td>\n",
       "      <td>Just stop getting so worked up over everything...</td>\n",
       "      <td>&lt;s&gt;[INST] I'm feeling really angry and frustra...</td>\n",
       "    </tr>\n",
       "  </tbody>\n",
       "</table>\n",
       "</div>"
      ],
      "text/plain": [
       "                                            question  \\\n",
       "0  I'm feeling really guilty about not being able...   \n",
       "1  I'm feeling really lonely and isolated. What c...   \n",
       "2  I'm struggling with intrusive thoughts. I keep...   \n",
       "3  I'm feeling really hopeless and I don't see a ...   \n",
       "4  I'm feeling really angry and frustrated all th...   \n",
       "\n",
       "                                          response_j  \\\n",
       "0  It may be helpful to communicate your concerns...   \n",
       "1  Feeling lonely can be difficult, but there are...   \n",
       "2  Intrusive thoughts can be distressing, but the...   \n",
       "3  Hopelessness can be a sign of depression. Let'...   \n",
       "4  It's important to learn how to manage your emo...   \n",
       "\n",
       "                                          response_k  \\\n",
       "0  Just accept that you're a bad parent/spouse an...   \n",
       "1  If you're feeling lonely, just try to distract...   \n",
       "2  Just stop thinking those thoughts. It's not th...   \n",
       "3  You're being dramatic. Things will get better ...   \n",
       "4  Just stop getting so worked up over everything...   \n",
       "\n",
       "                                                text  \n",
       "0  <s>[INST] I'm feeling really guilty about not ...  \n",
       "1  <s>[INST] I'm feeling really lonely and isolat...  \n",
       "2  <s>[INST] I'm struggling with intrusive though...  \n",
       "3  <s>[INST] I'm feeling really hopeless and I do...  \n",
       "4  <s>[INST] I'm feeling really angry and frustra...  "
      ]
     },
     "execution_count": 12,
     "metadata": {},
     "output_type": "execute_result"
    }
   ],
   "source": [
    "df6 = pd.read_csv('/Users/shubhamfufal/Library/Mobile Documents/com~apple~CloudDocs/2ndSemProject/Bot/Data/d6_from_parquet.csv')\n",
    "df6.head()\n"
   ]
  },
  {
   "cell_type": "code",
   "execution_count": 13,
   "metadata": {},
   "outputs": [
    {
     "data": {
      "text/html": [
       "<div>\n",
       "<style scoped>\n",
       "    .dataframe tbody tr th:only-of-type {\n",
       "        vertical-align: middle;\n",
       "    }\n",
       "\n",
       "    .dataframe tbody tr th {\n",
       "        vertical-align: top;\n",
       "    }\n",
       "\n",
       "    .dataframe thead th {\n",
       "        text-align: right;\n",
       "    }\n",
       "</style>\n",
       "<table border=\"1\" class=\"dataframe\">\n",
       "  <thead>\n",
       "    <tr style=\"text-align: right;\">\n",
       "      <th></th>\n",
       "      <th>question</th>\n",
       "      <th>response_j</th>\n",
       "    </tr>\n",
       "  </thead>\n",
       "  <tbody>\n",
       "    <tr>\n",
       "      <th>0</th>\n",
       "      <td>I'm feeling really guilty about not being able...</td>\n",
       "      <td>It may be helpful to communicate your concerns...</td>\n",
       "    </tr>\n",
       "    <tr>\n",
       "      <th>1</th>\n",
       "      <td>I'm feeling really lonely and isolated. What c...</td>\n",
       "      <td>Feeling lonely can be difficult, but there are...</td>\n",
       "    </tr>\n",
       "    <tr>\n",
       "      <th>2</th>\n",
       "      <td>I'm struggling with intrusive thoughts. I keep...</td>\n",
       "      <td>Intrusive thoughts can be distressing, but the...</td>\n",
       "    </tr>\n",
       "    <tr>\n",
       "      <th>3</th>\n",
       "      <td>I'm feeling really hopeless and I don't see a ...</td>\n",
       "      <td>Hopelessness can be a sign of depression. Let'...</td>\n",
       "    </tr>\n",
       "    <tr>\n",
       "      <th>4</th>\n",
       "      <td>I'm feeling really angry and frustrated all th...</td>\n",
       "      <td>It's important to learn how to manage your emo...</td>\n",
       "    </tr>\n",
       "  </tbody>\n",
       "</table>\n",
       "</div>"
      ],
      "text/plain": [
       "                                            question  \\\n",
       "0  I'm feeling really guilty about not being able...   \n",
       "1  I'm feeling really lonely and isolated. What c...   \n",
       "2  I'm struggling with intrusive thoughts. I keep...   \n",
       "3  I'm feeling really hopeless and I don't see a ...   \n",
       "4  I'm feeling really angry and frustrated all th...   \n",
       "\n",
       "                                          response_j  \n",
       "0  It may be helpful to communicate your concerns...  \n",
       "1  Feeling lonely can be difficult, but there are...  \n",
       "2  Intrusive thoughts can be distressing, but the...  \n",
       "3  Hopelessness can be a sign of depression. Let'...  \n",
       "4  It's important to learn how to manage your emo...  "
      ]
     },
     "execution_count": 13,
     "metadata": {},
     "output_type": "execute_result"
    }
   ],
   "source": [
    "df6.drop(columns = [\"response_k\", \"text\"], inplace = True)\n",
    "df6.head()"
   ]
  },
  {
   "cell_type": "code",
   "execution_count": 14,
   "metadata": {},
   "outputs": [
    {
     "data": {
      "text/html": [
       "<div>\n",
       "<style scoped>\n",
       "    .dataframe tbody tr th:only-of-type {\n",
       "        vertical-align: middle;\n",
       "    }\n",
       "\n",
       "    .dataframe tbody tr th {\n",
       "        vertical-align: top;\n",
       "    }\n",
       "\n",
       "    .dataframe thead th {\n",
       "        text-align: right;\n",
       "    }\n",
       "</style>\n",
       "<table border=\"1\" class=\"dataframe\">\n",
       "  <thead>\n",
       "    <tr style=\"text-align: right;\">\n",
       "      <th></th>\n",
       "      <th>instruction</th>\n",
       "      <th>input</th>\n",
       "      <th>output</th>\n",
       "    </tr>\n",
       "  </thead>\n",
       "  <tbody>\n",
       "    <tr>\n",
       "      <th>0</th>\n",
       "      <td>You are a therapy chatbot, designed to offer e...</td>\n",
       "      <td>I'm feeling really guilty about not being able...</td>\n",
       "      <td>It may be helpful to communicate your concerns...</td>\n",
       "    </tr>\n",
       "    <tr>\n",
       "      <th>1</th>\n",
       "      <td>You are a therapy chatbot, designed to offer e...</td>\n",
       "      <td>I'm feeling really lonely and isolated. What c...</td>\n",
       "      <td>Feeling lonely can be difficult, but there are...</td>\n",
       "    </tr>\n",
       "    <tr>\n",
       "      <th>2</th>\n",
       "      <td>You are a therapy chatbot, designed to offer e...</td>\n",
       "      <td>I'm struggling with intrusive thoughts. I keep...</td>\n",
       "      <td>Intrusive thoughts can be distressing, but the...</td>\n",
       "    </tr>\n",
       "    <tr>\n",
       "      <th>3</th>\n",
       "      <td>You are a therapy chatbot, designed to offer e...</td>\n",
       "      <td>I'm feeling really hopeless and I don't see a ...</td>\n",
       "      <td>Hopelessness can be a sign of depression. Let'...</td>\n",
       "    </tr>\n",
       "    <tr>\n",
       "      <th>4</th>\n",
       "      <td>You are a therapy chatbot, designed to offer e...</td>\n",
       "      <td>I'm feeling really angry and frustrated all th...</td>\n",
       "      <td>It's important to learn how to manage your emo...</td>\n",
       "    </tr>\n",
       "  </tbody>\n",
       "</table>\n",
       "</div>"
      ],
      "text/plain": [
       "                                         instruction  \\\n",
       "0  You are a therapy chatbot, designed to offer e...   \n",
       "1  You are a therapy chatbot, designed to offer e...   \n",
       "2  You are a therapy chatbot, designed to offer e...   \n",
       "3  You are a therapy chatbot, designed to offer e...   \n",
       "4  You are a therapy chatbot, designed to offer e...   \n",
       "\n",
       "                                               input  \\\n",
       "0  I'm feeling really guilty about not being able...   \n",
       "1  I'm feeling really lonely and isolated. What c...   \n",
       "2  I'm struggling with intrusive thoughts. I keep...   \n",
       "3  I'm feeling really hopeless and I don't see a ...   \n",
       "4  I'm feeling really angry and frustrated all th...   \n",
       "\n",
       "                                              output  \n",
       "0  It may be helpful to communicate your concerns...  \n",
       "1  Feeling lonely can be difficult, but there are...  \n",
       "2  Intrusive thoughts can be distressing, but the...  \n",
       "3  Hopelessness can be a sign of depression. Let'...  \n",
       "4  It's important to learn how to manage your emo...  "
      ]
     },
     "execution_count": 14,
     "metadata": {},
     "output_type": "execute_result"
    }
   ],
   "source": [
    "df7 = pd.read_csv('/Users/shubhamfufal/Library/Mobile Documents/com~apple~CloudDocs/2ndSemProject/Bot/Data/d7.csv')\n",
    "df7.head()"
   ]
  },
  {
   "cell_type": "code",
   "execution_count": 15,
   "metadata": {},
   "outputs": [
    {
     "data": {
      "text/html": [
       "<div>\n",
       "<style scoped>\n",
       "    .dataframe tbody tr th:only-of-type {\n",
       "        vertical-align: middle;\n",
       "    }\n",
       "\n",
       "    .dataframe tbody tr th {\n",
       "        vertical-align: top;\n",
       "    }\n",
       "\n",
       "    .dataframe thead th {\n",
       "        text-align: right;\n",
       "    }\n",
       "</style>\n",
       "<table border=\"1\" class=\"dataframe\">\n",
       "  <thead>\n",
       "    <tr style=\"text-align: right;\">\n",
       "      <th></th>\n",
       "      <th>input</th>\n",
       "      <th>output</th>\n",
       "    </tr>\n",
       "  </thead>\n",
       "  <tbody>\n",
       "    <tr>\n",
       "      <th>0</th>\n",
       "      <td>I'm feeling really guilty about not being able...</td>\n",
       "      <td>It may be helpful to communicate your concerns...</td>\n",
       "    </tr>\n",
       "    <tr>\n",
       "      <th>1</th>\n",
       "      <td>I'm feeling really lonely and isolated. What c...</td>\n",
       "      <td>Feeling lonely can be difficult, but there are...</td>\n",
       "    </tr>\n",
       "    <tr>\n",
       "      <th>2</th>\n",
       "      <td>I'm struggling with intrusive thoughts. I keep...</td>\n",
       "      <td>Intrusive thoughts can be distressing, but the...</td>\n",
       "    </tr>\n",
       "    <tr>\n",
       "      <th>3</th>\n",
       "      <td>I'm feeling really hopeless and I don't see a ...</td>\n",
       "      <td>Hopelessness can be a sign of depression. Let'...</td>\n",
       "    </tr>\n",
       "    <tr>\n",
       "      <th>4</th>\n",
       "      <td>I'm feeling really angry and frustrated all th...</td>\n",
       "      <td>It's important to learn how to manage your emo...</td>\n",
       "    </tr>\n",
       "  </tbody>\n",
       "</table>\n",
       "</div>"
      ],
      "text/plain": [
       "                                               input  \\\n",
       "0  I'm feeling really guilty about not being able...   \n",
       "1  I'm feeling really lonely and isolated. What c...   \n",
       "2  I'm struggling with intrusive thoughts. I keep...   \n",
       "3  I'm feeling really hopeless and I don't see a ...   \n",
       "4  I'm feeling really angry and frustrated all th...   \n",
       "\n",
       "                                              output  \n",
       "0  It may be helpful to communicate your concerns...  \n",
       "1  Feeling lonely can be difficult, but there are...  \n",
       "2  Intrusive thoughts can be distressing, but the...  \n",
       "3  Hopelessness can be a sign of depression. Let'...  \n",
       "4  It's important to learn how to manage your emo...  "
      ]
     },
     "execution_count": 15,
     "metadata": {},
     "output_type": "execute_result"
    }
   ],
   "source": [
    "df7.drop(columns = \"instruction\", inplace = True)\n",
    "df7.head()"
   ]
  },
  {
   "cell_type": "code",
   "execution_count": 16,
   "metadata": {},
   "outputs": [
    {
     "data": {
      "text/plain": [
       "(867859, 2)"
      ]
     },
     "execution_count": 16,
     "metadata": {},
     "output_type": "execute_result"
    }
   ],
   "source": [
    "df8 = pd.read_csv('/Users/shubhamfufal/Library/Mobile Documents/com~apple~CloudDocs/2ndSemProject/Bot/Data/d8_from_parquet.csv')\n",
    "df8.head()\n",
    "df8.shape\n",
    "\n",
    "# Remove"
   ]
  },
  {
   "cell_type": "code",
   "execution_count": 17,
   "metadata": {},
   "outputs": [],
   "source": [
    "newColName = {\n",
    "    \"Context\": \"input\",\n",
    "    \"Response\": \"output\",\n",
    "    \"Questions\": \"input\",\n",
    "    \"Answers\": \"output\",\n",
    "    \"human\": \"input\",\n",
    "    \"ai\": \"output\",\n",
    "    \"question\": \"input\",\n",
    "    \"response_j\": \"output\",\n",
    "}\n",
    "\n",
    "dflist = [df0, df3, df4, df5, df6, df7]\n",
    "\n",
    "for df in dflist:\n",
    "    df.rename(columns = newColName, inplace = True)"
   ]
  },
  {
   "cell_type": "code",
   "execution_count": 18,
   "metadata": {},
   "outputs": [],
   "source": [
    "dfs = [df0, df3, df4, df5, df6, df7]"
   ]
  },
  {
   "cell_type": "code",
   "execution_count": 19,
   "metadata": {},
   "outputs": [
    {
     "data": {
      "text/html": [
       "<div>\n",
       "<style scoped>\n",
       "    .dataframe tbody tr th:only-of-type {\n",
       "        vertical-align: middle;\n",
       "    }\n",
       "\n",
       "    .dataframe tbody tr th {\n",
       "        vertical-align: top;\n",
       "    }\n",
       "\n",
       "    .dataframe thead th {\n",
       "        text-align: right;\n",
       "    }\n",
       "</style>\n",
       "<table border=\"1\" class=\"dataframe\">\n",
       "  <thead>\n",
       "    <tr style=\"text-align: right;\">\n",
       "      <th></th>\n",
       "      <th>input</th>\n",
       "      <th>output</th>\n",
       "    </tr>\n",
       "  </thead>\n",
       "  <tbody>\n",
       "    <tr>\n",
       "      <th>0</th>\n",
       "      <td>I'm going through some things with my feelings...</td>\n",
       "      <td>If everyone thinks you're worthless, then mayb...</td>\n",
       "    </tr>\n",
       "    <tr>\n",
       "      <th>1</th>\n",
       "      <td>I'm going through some things with my feelings...</td>\n",
       "      <td>Hello, and thank you for your question and see...</td>\n",
       "    </tr>\n",
       "    <tr>\n",
       "      <th>2</th>\n",
       "      <td>I'm going through some things with my feelings...</td>\n",
       "      <td>First thing I'd suggest is getting the sleep y...</td>\n",
       "    </tr>\n",
       "    <tr>\n",
       "      <th>3</th>\n",
       "      <td>I'm going through some things with my feelings...</td>\n",
       "      <td>Therapy is essential for those that are feelin...</td>\n",
       "    </tr>\n",
       "    <tr>\n",
       "      <th>4</th>\n",
       "      <td>I'm going through some things with my feelings...</td>\n",
       "      <td>I first want to let you know that you are not ...</td>\n",
       "    </tr>\n",
       "  </tbody>\n",
       "</table>\n",
       "</div>"
      ],
      "text/plain": [
       "                                               input  \\\n",
       "0  I'm going through some things with my feelings...   \n",
       "1  I'm going through some things with my feelings...   \n",
       "2  I'm going through some things with my feelings...   \n",
       "3  I'm going through some things with my feelings...   \n",
       "4  I'm going through some things with my feelings...   \n",
       "\n",
       "                                              output  \n",
       "0  If everyone thinks you're worthless, then mayb...  \n",
       "1  Hello, and thank you for your question and see...  \n",
       "2  First thing I'd suggest is getting the sleep y...  \n",
       "3  Therapy is essential for those that are feelin...  \n",
       "4  I first want to let you know that you are not ...  "
      ]
     },
     "execution_count": 19,
     "metadata": {},
     "output_type": "execute_result"
    }
   ],
   "source": [
    "mergedDf = pd.concat(dfs, ignore_index = True)\n",
    "mergedDf.head()"
   ]
  },
  {
   "cell_type": "code",
   "execution_count": 20,
   "metadata": {},
   "outputs": [
    {
     "name": "stdout",
     "output_type": "stream",
     "text": [
      "Merge successful\n"
     ]
    }
   ],
   "source": [
    "mergedDf.to_csv(\"/Users/shubhamfufal/Library/Mobile Documents/com~apple~CloudDocs/2ndSemProject/Bot/Data/final.csv\", index = False)\n",
    "print(\"Merge successful\")"
   ]
  },
  {
   "cell_type": "code",
   "execution_count": 21,
   "metadata": {},
   "outputs": [],
   "source": [
    "final = pd.read_csv(\"/Users/shubhamfufal/Library/Mobile Documents/com~apple~CloudDocs/2ndSemProject/Bot/Data/final.csv\")"
   ]
  },
  {
   "cell_type": "code",
   "execution_count": 22,
   "metadata": {},
   "outputs": [
    {
     "data": {
      "text/plain": [
       "input     1469\n",
       "output    1368\n",
       "dtype: int64"
      ]
     },
     "execution_count": 22,
     "metadata": {},
     "output_type": "execute_result"
    }
   ],
   "source": [
    "final.isna().sum()"
   ]
  },
  {
   "cell_type": "code",
   "execution_count": 23,
   "metadata": {},
   "outputs": [
    {
     "data": {
      "text/plain": [
       "input     0\n",
       "output    0\n",
       "dtype: int64"
      ]
     },
     "execution_count": 23,
     "metadata": {},
     "output_type": "execute_result"
    }
   ],
   "source": [
    "final.dropna(inplace = True)\n",
    "final.isna().sum()"
   ]
  },
  {
   "cell_type": "code",
   "execution_count": 24,
   "metadata": {},
   "outputs": [
    {
     "data": {
      "text/html": [
       "<div>\n",
       "<style scoped>\n",
       "    .dataframe tbody tr th:only-of-type {\n",
       "        vertical-align: middle;\n",
       "    }\n",
       "\n",
       "    .dataframe tbody tr th {\n",
       "        vertical-align: top;\n",
       "    }\n",
       "\n",
       "    .dataframe thead th {\n",
       "        text-align: right;\n",
       "    }\n",
       "</style>\n",
       "<table border=\"1\" class=\"dataframe\">\n",
       "  <thead>\n",
       "    <tr style=\"text-align: right;\">\n",
       "      <th></th>\n",
       "      <th>input</th>\n",
       "      <th>output</th>\n",
       "    </tr>\n",
       "  </thead>\n",
       "  <tbody>\n",
       "    <tr>\n",
       "      <th>count</th>\n",
       "      <td>899739</td>\n",
       "      <td>899739</td>\n",
       "    </tr>\n",
       "    <tr>\n",
       "      <th>unique</th>\n",
       "      <td>823682</td>\n",
       "      <td>841778</td>\n",
       "    </tr>\n",
       "    <tr>\n",
       "      <th>top</th>\n",
       "      <td>I have so many issues to address. I have a his...</td>\n",
       "      <td>I'm sorry to hear that, Charlie. Can you tell ...</td>\n",
       "    </tr>\n",
       "    <tr>\n",
       "      <th>freq</th>\n",
       "      <td>368</td>\n",
       "      <td>107</td>\n",
       "    </tr>\n",
       "  </tbody>\n",
       "</table>\n",
       "</div>"
      ],
      "text/plain": [
       "                                                    input  \\\n",
       "count                                              899739   \n",
       "unique                                             823682   \n",
       "top     I have so many issues to address. I have a his...   \n",
       "freq                                                  368   \n",
       "\n",
       "                                                   output  \n",
       "count                                              899739  \n",
       "unique                                             841778  \n",
       "top     I'm sorry to hear that, Charlie. Can you tell ...  \n",
       "freq                                                  107  "
      ]
     },
     "execution_count": 24,
     "metadata": {},
     "output_type": "execute_result"
    }
   ],
   "source": [
    "final.describe()"
   ]
  },
  {
   "cell_type": "code",
   "execution_count": 25,
   "metadata": {},
   "outputs": [
    {
     "name": "stdout",
     "output_type": "stream",
     "text": [
      "<class 'pandas.core.frame.DataFrame'>\n",
      "Index: 899739 entries, 0 to 900590\n",
      "Data columns (total 2 columns):\n",
      " #   Column  Non-Null Count   Dtype \n",
      "---  ------  --------------   ----- \n",
      " 0   input   899739 non-null  object\n",
      " 1   output  899739 non-null  object\n",
      "dtypes: object(2)\n",
      "memory usage: 20.6+ MB\n"
     ]
    }
   ],
   "source": [
    "final.info()"
   ]
  },
  {
   "cell_type": "markdown",
   "metadata": {},
   "source": [
    "# Basic Data Exploration\n",
    "Explore the dataset by displaying the first few rows, checking the data types, and calculating descriptive statistics."
   ]
  },
  {
   "cell_type": "code",
   "execution_count": 26,
   "metadata": {},
   "outputs": [
    {
     "name": "stdout",
     "output_type": "stream",
     "text": [
      "input     object\n",
      "output    object\n",
      "dtype: object\n",
      "Shape: (899739, 2)\n"
     ]
    },
    {
     "data": {
      "text/html": [
       "<div>\n",
       "<style scoped>\n",
       "    .dataframe tbody tr th:only-of-type {\n",
       "        vertical-align: middle;\n",
       "    }\n",
       "\n",
       "    .dataframe tbody tr th {\n",
       "        vertical-align: top;\n",
       "    }\n",
       "\n",
       "    .dataframe thead th {\n",
       "        text-align: right;\n",
       "    }\n",
       "</style>\n",
       "<table border=\"1\" class=\"dataframe\">\n",
       "  <thead>\n",
       "    <tr style=\"text-align: right;\">\n",
       "      <th></th>\n",
       "      <th>input</th>\n",
       "      <th>output</th>\n",
       "    </tr>\n",
       "  </thead>\n",
       "  <tbody>\n",
       "    <tr>\n",
       "      <th>count</th>\n",
       "      <td>899739</td>\n",
       "      <td>899739</td>\n",
       "    </tr>\n",
       "    <tr>\n",
       "      <th>unique</th>\n",
       "      <td>823682</td>\n",
       "      <td>841778</td>\n",
       "    </tr>\n",
       "    <tr>\n",
       "      <th>top</th>\n",
       "      <td>I have so many issues to address. I have a his...</td>\n",
       "      <td>I'm sorry to hear that, Charlie. Can you tell ...</td>\n",
       "    </tr>\n",
       "    <tr>\n",
       "      <th>freq</th>\n",
       "      <td>368</td>\n",
       "      <td>107</td>\n",
       "    </tr>\n",
       "  </tbody>\n",
       "</table>\n",
       "</div>"
      ],
      "text/plain": [
       "                                                    input  \\\n",
       "count                                              899739   \n",
       "unique                                             823682   \n",
       "top     I have so many issues to address. I have a his...   \n",
       "freq                                                  368   \n",
       "\n",
       "                                                   output  \n",
       "count                                              899739  \n",
       "unique                                             841778  \n",
       "top     I'm sorry to hear that, Charlie. Can you tell ...  \n",
       "freq                                                  107  "
      ]
     },
     "execution_count": 26,
     "metadata": {},
     "output_type": "execute_result"
    }
   ],
   "source": [
    "print(final.dtypes)\n",
    "\n",
    "print(\"Shape:\", final.shape)\n",
    "\n",
    "final.describe()"
   ]
  },
  {
   "cell_type": "code",
   "execution_count": 27,
   "metadata": {},
   "outputs": [
    {
     "data": {
      "text/plain": [
       "input     661\n",
       "output    661\n",
       "dtype: int64"
      ]
     },
     "execution_count": 27,
     "metadata": {},
     "output_type": "execute_result"
    }
   ],
   "source": [
    "df.isna().sum()"
   ]
  },
  {
   "cell_type": "markdown",
   "metadata": {},
   "source": [
    "# Data Cleaning\n",
    "Handle missing values, remove duplicates, and correct any inconsistencies in the data."
   ]
  },
  {
   "cell_type": "code",
   "execution_count": 28,
   "metadata": {},
   "outputs": [
    {
     "name": "stdout",
     "output_type": "stream",
     "text": [
      "Index(['input', 'output'], dtype='object')\n"
     ]
    }
   ],
   "source": [
    "print(final.columns)"
   ]
  },
  {
   "cell_type": "code",
   "execution_count": 29,
   "metadata": {},
   "outputs": [
    {
     "data": {
      "text/html": [
       "<div>\n",
       "<style scoped>\n",
       "    .dataframe tbody tr th:only-of-type {\n",
       "        vertical-align: middle;\n",
       "    }\n",
       "\n",
       "    .dataframe tbody tr th {\n",
       "        vertical-align: top;\n",
       "    }\n",
       "\n",
       "    .dataframe thead th {\n",
       "        text-align: right;\n",
       "    }\n",
       "</style>\n",
       "<table border=\"1\" class=\"dataframe\">\n",
       "  <thead>\n",
       "    <tr style=\"text-align: right;\">\n",
       "      <th></th>\n",
       "      <th>input</th>\n",
       "      <th>output</th>\n",
       "    </tr>\n",
       "  </thead>\n",
       "  <tbody>\n",
       "    <tr>\n",
       "      <th>0</th>\n",
       "      <td>I'm feeling really guilty about not being able...</td>\n",
       "      <td>It may be helpful to communicate your concerns...</td>\n",
       "    </tr>\n",
       "    <tr>\n",
       "      <th>1</th>\n",
       "      <td>I'm feeling really lonely and isolated. What c...</td>\n",
       "      <td>Feeling lonely can be difficult, but there are...</td>\n",
       "    </tr>\n",
       "    <tr>\n",
       "      <th>2</th>\n",
       "      <td>I'm struggling with intrusive thoughts. I keep...</td>\n",
       "      <td>Intrusive thoughts can be distressing, but the...</td>\n",
       "    </tr>\n",
       "    <tr>\n",
       "      <th>3</th>\n",
       "      <td>I'm feeling really hopeless and I don't see a ...</td>\n",
       "      <td>Hopelessness can be a sign of depression. Let'...</td>\n",
       "    </tr>\n",
       "    <tr>\n",
       "      <th>4</th>\n",
       "      <td>I'm feeling really angry and frustrated all th...</td>\n",
       "      <td>It's important to learn how to manage your emo...</td>\n",
       "    </tr>\n",
       "  </tbody>\n",
       "</table>\n",
       "</div>"
      ],
      "text/plain": [
       "                                               input  \\\n",
       "0  I'm feeling really guilty about not being able...   \n",
       "1  I'm feeling really lonely and isolated. What c...   \n",
       "2  I'm struggling with intrusive thoughts. I keep...   \n",
       "3  I'm feeling really hopeless and I don't see a ...   \n",
       "4  I'm feeling really angry and frustrated all th...   \n",
       "\n",
       "                                              output  \n",
       "0  It may be helpful to communicate your concerns...  \n",
       "1  Feeling lonely can be difficult, but there are...  \n",
       "2  Intrusive thoughts can be distressing, but the...  \n",
       "3  Hopelessness can be a sign of depression. Let'...  \n",
       "4  It's important to learn how to manage your emo...  "
      ]
     },
     "execution_count": 29,
     "metadata": {},
     "output_type": "execute_result"
    }
   ],
   "source": [
    "for col in final.select_dtypes(include = [\"object\"]).columns:\n",
    "    final[col] = final[col].str.lower().str.strip()\n",
    "    \n",
    "df.head()"
   ]
  },
  {
   "cell_type": "markdown",
   "metadata": {},
   "source": [
    "# Text Cleaning\n",
    "Removing whitespaces and other characters"
   ]
  },
  {
   "cell_type": "code",
   "execution_count": 30,
   "metadata": {},
   "outputs": [
    {
     "name": "stdout",
     "output_type": "stream",
     "text": [
      "Collecting nltk\n",
      "  Downloading nltk-3.9.1-py3-none-any.whl.metadata (2.9 kB)\n",
      "Collecting click (from nltk)\n",
      "  Downloading click-8.1.8-py3-none-any.whl.metadata (2.3 kB)\n",
      "Collecting joblib (from nltk)\n",
      "  Downloading joblib-1.5.0-py3-none-any.whl.metadata (5.6 kB)\n",
      "Collecting regex>=2021.8.3 (from nltk)\n",
      "  Downloading regex-2024.11.6-cp39-cp39-macosx_11_0_arm64.whl.metadata (40 kB)\n",
      "Collecting tqdm (from nltk)\n",
      "  Downloading tqdm-4.67.1-py3-none-any.whl.metadata (57 kB)\n",
      "Downloading nltk-3.9.1-py3-none-any.whl (1.5 MB)\n",
      "\u001b[2K   \u001b[90m━━━━━━━━━━━━━━━━━━━━━━━━━━━━━━━━━━━━━━━━\u001b[0m \u001b[32m1.5/1.5 MB\u001b[0m \u001b[31m5.9 MB/s\u001b[0m eta \u001b[36m0:00:00\u001b[0ma \u001b[36m0:00:01\u001b[0m\n",
      "\u001b[?25hDownloading regex-2024.11.6-cp39-cp39-macosx_11_0_arm64.whl (284 kB)\n",
      "Downloading click-8.1.8-py3-none-any.whl (98 kB)\n",
      "Downloading joblib-1.5.0-py3-none-any.whl (307 kB)\n",
      "Downloading tqdm-4.67.1-py3-none-any.whl (78 kB)\n",
      "Installing collected packages: tqdm, regex, joblib, click, nltk\n",
      "\u001b[2K   \u001b[90m━━━━━━━━━━━━━━━━━━━━━━━━━━━━━━━━━━━━━━━━\u001b[0m \u001b[32m5/5\u001b[0m [nltk][32m4/5\u001b[0m [nltk]b]\n",
      "\u001b[1A\u001b[2KSuccessfully installed click-8.1.8 joblib-1.5.0 nltk-3.9.1 regex-2024.11.6 tqdm-4.67.1\n"
     ]
    }
   ],
   "source": [
    "!pip install nltk"
   ]
  },
  {
   "cell_type": "code",
   "execution_count": 31,
   "metadata": {},
   "outputs": [],
   "source": [
    "import re\n",
    "from nltk.corpus import stopwords\n",
    "from nltk.stem import WordNetLemmatizer"
   ]
  },
  {
   "cell_type": "code",
   "execution_count": 32,
   "metadata": {},
   "outputs": [
    {
     "name": "stderr",
     "output_type": "stream",
     "text": [
      "[nltk_data] Downloading package stopwords to\n",
      "[nltk_data]     /Users/shubhamfufal/nltk_data...\n",
      "[nltk_data]   Unzipping corpora/stopwords.zip.\n",
      "[nltk_data] Downloading package wordnet to\n",
      "[nltk_data]     /Users/shubhamfufal/nltk_data...\n"
     ]
    },
    {
     "data": {
      "text/plain": [
       "True"
      ]
     },
     "execution_count": 32,
     "metadata": {},
     "output_type": "execute_result"
    }
   ],
   "source": [
    "import nltk\n",
    "nltk.download('stopwords')\n",
    "nltk.download('wordnet')\n"
   ]
  },
  {
   "cell_type": "code",
   "execution_count": 33,
   "metadata": {},
   "outputs": [],
   "source": [
    "lemmatizer = WordNetLemmatizer()\n",
    "stop_words = set(stopwords.words('english'))"
   ]
  },
  {
   "cell_type": "code",
   "execution_count": 34,
   "metadata": {},
   "outputs": [],
   "source": [
    "def cleanText(text):\n",
    "    if not isinstance(text, str):\n",
    "        return \"\"  \n",
    "\n",
    "    text = text.lower()\n",
    "\n",
    "    text = re.sub(r'[^\\w\\s]', '', text)\n",
    "\n",
    "    text = ' '.join([word for word in text.split() if word not in stop_words])\n",
    "\n",
    "    text = ' '.join([lemmatizer.lemmatize(word) for word in text.split()])\n",
    "\n",
    "    return text"
   ]
  },
  {
   "cell_type": "code",
   "execution_count": 35,
   "metadata": {},
   "outputs": [],
   "source": [
    "mergedDf[\"input\"] = mergedDf[\"input\"].astype(str).apply(cleanText)\n",
    "mergedDf[\"output\"] = mergedDf[\"output\"].astype(str).apply(cleanText)"
   ]
  },
  {
   "cell_type": "code",
   "execution_count": 36,
   "metadata": {},
   "outputs": [
    {
     "data": {
      "text/html": [
       "<div>\n",
       "<style scoped>\n",
       "    .dataframe tbody tr th:only-of-type {\n",
       "        vertical-align: middle;\n",
       "    }\n",
       "\n",
       "    .dataframe tbody tr th {\n",
       "        vertical-align: top;\n",
       "    }\n",
       "\n",
       "    .dataframe thead th {\n",
       "        text-align: right;\n",
       "    }\n",
       "</style>\n",
       "<table border=\"1\" class=\"dataframe\">\n",
       "  <thead>\n",
       "    <tr style=\"text-align: right;\">\n",
       "      <th></th>\n",
       "      <th>input</th>\n",
       "      <th>output</th>\n",
       "    </tr>\n",
       "  </thead>\n",
       "  <tbody>\n",
       "    <tr>\n",
       "      <th>0</th>\n",
       "      <td>im going thing feeling barely sleep nothing th...</td>\n",
       "      <td>everyone think youre worthless maybe need find...</td>\n",
       "    </tr>\n",
       "    <tr>\n",
       "      <th>1</th>\n",
       "      <td>im going thing feeling barely sleep nothing th...</td>\n",
       "      <td>hello thank question seeking advice feeling wo...</td>\n",
       "    </tr>\n",
       "    <tr>\n",
       "      <th>2</th>\n",
       "      <td>im going thing feeling barely sleep nothing th...</td>\n",
       "      <td>first thing id suggest getting sleep need impa...</td>\n",
       "    </tr>\n",
       "    <tr>\n",
       "      <th>3</th>\n",
       "      <td>im going thing feeling barely sleep nothing th...</td>\n",
       "      <td>therapy essential feeling depressed worthless ...</td>\n",
       "    </tr>\n",
       "    <tr>\n",
       "      <th>4</th>\n",
       "      <td>im going thing feeling barely sleep nothing th...</td>\n",
       "      <td>first want let know alone feeling always someo...</td>\n",
       "    </tr>\n",
       "  </tbody>\n",
       "</table>\n",
       "</div>"
      ],
      "text/plain": [
       "                                               input  \\\n",
       "0  im going thing feeling barely sleep nothing th...   \n",
       "1  im going thing feeling barely sleep nothing th...   \n",
       "2  im going thing feeling barely sleep nothing th...   \n",
       "3  im going thing feeling barely sleep nothing th...   \n",
       "4  im going thing feeling barely sleep nothing th...   \n",
       "\n",
       "                                              output  \n",
       "0  everyone think youre worthless maybe need find...  \n",
       "1  hello thank question seeking advice feeling wo...  \n",
       "2  first thing id suggest getting sleep need impa...  \n",
       "3  therapy essential feeling depressed worthless ...  \n",
       "4  first want let know alone feeling always someo...  "
      ]
     },
     "execution_count": 36,
     "metadata": {},
     "output_type": "execute_result"
    }
   ],
   "source": [
    "mergedDf.head()"
   ]
  },
  {
   "cell_type": "code",
   "execution_count": 37,
   "metadata": {},
   "outputs": [
    {
     "data": {
      "text/plain": [
       "(901252, 2)"
      ]
     },
     "execution_count": 37,
     "metadata": {},
     "output_type": "execute_result"
    }
   ],
   "source": [
    "mergedDf.shape"
   ]
  },
  {
   "cell_type": "code",
   "execution_count": 38,
   "metadata": {},
   "outputs": [],
   "source": [
    "mergedDf[\"input\"] = mergedDf[\"input\"].str.encode(\"utf-8\", errors = \"ignore\").str.decode(\"utf-8\")\n",
    "mergedDf[\"output\"] = mergedDf[\"output\"].str.encode(\"utf-8\", errors = \"ignore\").str.decode(\"utf-8\")"
   ]
  },
  {
   "cell_type": "code",
   "execution_count": 39,
   "metadata": {},
   "outputs": [],
   "source": [
    "mergedDf[\"input\"] = mergedDf[\"input\"].str.replace(r'[^a-zA-Z0-9\\s]', '', regex = True)\n",
    "mergedDf[\"output\"] = mergedDf[\"output\"].str.replace(r'[^a-zA-Z0-9\\s]', '', regex = True)"
   ]
  },
  {
   "cell_type": "code",
   "execution_count": 40,
   "metadata": {},
   "outputs": [],
   "source": [
    "import html"
   ]
  },
  {
   "cell_type": "code",
   "execution_count": 41,
   "metadata": {},
   "outputs": [],
   "source": [
    "mergedDf[\"input\"] = mergedDf[\"input\"].apply(html.unescape)\n",
    "mergedDf[\"output\"] = mergedDf[\"output\"].apply(html.unescape)"
   ]
  },
  {
   "cell_type": "code",
   "execution_count": 42,
   "metadata": {},
   "outputs": [
    {
     "data": {
      "text/plain": [
       "input     0\n",
       "output    0\n",
       "dtype: int64"
      ]
     },
     "execution_count": 42,
     "metadata": {},
     "output_type": "execute_result"
    }
   ],
   "source": [
    "mergedDf.isna().sum()"
   ]
  },
  {
   "cell_type": "code",
   "execution_count": 43,
   "metadata": {},
   "outputs": [
    {
     "name": "stdout",
     "output_type": "stream",
     "text": [
      "Collecting contractions\n",
      "  Downloading contractions-0.1.73-py2.py3-none-any.whl.metadata (1.2 kB)\n",
      "Collecting textsearch>=0.0.21 (from contractions)\n",
      "  Downloading textsearch-0.0.24-py2.py3-none-any.whl.metadata (1.2 kB)\n",
      "Collecting anyascii (from textsearch>=0.0.21->contractions)\n",
      "  Downloading anyascii-0.3.2-py3-none-any.whl.metadata (1.5 kB)\n",
      "Collecting pyahocorasick (from textsearch>=0.0.21->contractions)\n",
      "  Downloading pyahocorasick-2.1.0-cp39-cp39-macosx_10_9_universal2.whl.metadata (13 kB)\n",
      "Downloading contractions-0.1.73-py2.py3-none-any.whl (8.7 kB)\n",
      "Downloading textsearch-0.0.24-py2.py3-none-any.whl (7.6 kB)\n",
      "Downloading anyascii-0.3.2-py3-none-any.whl (289 kB)\n",
      "Downloading pyahocorasick-2.1.0-cp39-cp39-macosx_10_9_universal2.whl (63 kB)\n",
      "Installing collected packages: pyahocorasick, anyascii, textsearch, contractions\n",
      "\u001b[2K   \u001b[90m━━━━━━━━━━━━━━━━━━━━━━━━━━━━━━━━━━━━━━━━\u001b[0m \u001b[32m4/4\u001b[0m [contractions]\n",
      "\u001b[1A\u001b[2KSuccessfully installed anyascii-0.3.2 contractions-0.1.73 pyahocorasick-2.1.0 textsearch-0.0.24\n"
     ]
    }
   ],
   "source": [
    "!pip install contractions\n",
    "import contractions"
   ]
  },
  {
   "cell_type": "code",
   "execution_count": 44,
   "metadata": {},
   "outputs": [],
   "source": [
    "def expandContractions(text):\n",
    "    if isinstance(text, str):\n",
    "        return contractions.fix(text)\n",
    "    else:\n",
    "        return text"
   ]
  },
  {
   "cell_type": "code",
   "execution_count": 45,
   "metadata": {},
   "outputs": [],
   "source": [
    "mergedDf[\"input\"] = mergedDf[\"input\"].astype(str).apply(expandContractions)\n",
    "mergedDf[\"output\"] = mergedDf[\"output\"].astype(str).apply(expandContractions)"
   ]
  },
  {
   "cell_type": "code",
   "execution_count": 46,
   "metadata": {},
   "outputs": [],
   "source": [
    "def removeNonASCII(text):\n",
    "    if isinstance(text, str):\n",
    "        return text.encode(\"ascii\", \"ignore\").decode()\n",
    "    else:\n",
    "        return text"
   ]
  },
  {
   "cell_type": "code",
   "execution_count": 47,
   "metadata": {},
   "outputs": [],
   "source": [
    "mergedDf[\"input\"] = mergedDf[\"input\"].astype(str).apply(removeNonASCII)\n",
    "mergedDf[\"output\"] = mergedDf[\"output\"].astype(str).apply(removeNonASCII)"
   ]
  },
  {
   "cell_type": "code",
   "execution_count": null,
   "metadata": {},
   "outputs": [],
   "source": []
  }
 ],
 "metadata": {
  "kernelspec": {
   "display_name": ".venv",
   "language": "python",
   "name": "python3"
  },
  "language_info": {
   "codemirror_mode": {
    "name": "ipython",
    "version": 3
   },
   "file_extension": ".py",
   "mimetype": "text/x-python",
   "name": "python",
   "nbconvert_exporter": "python",
   "pygments_lexer": "ipython3",
   "version": "3.9.6"
  }
 },
 "nbformat": 4,
 "nbformat_minor": 2
}
